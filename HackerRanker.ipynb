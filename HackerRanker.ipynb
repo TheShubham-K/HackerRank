{
 "cells": [
  {
   "cell_type": "code",
   "execution_count": 15,
   "metadata": {},
   "outputs": [
    {
     "name": "stdout",
     "output_type": "stream",
     "text": [
      "1992\n",
      "True\n"
     ]
    }
   ],
   "source": [
    "def is_leap(year):\n",
    "    leap = False\n",
    "    \n",
    "    # Write your logic here\n",
    "    if(year % 4) == 0:\n",
    "        if (year % 100)== 0:\n",
    "            if (year % 400) == 0:\n",
    "                return True\n",
    "            else:\n",
    "                return False\n",
    "        else:\n",
    "            return True\n",
    "    else:\n",
    "        return False\n",
    "\n",
    "    return leap\n",
    "\n",
    "year = int(input())\n",
    "print(is_leap(year))  "
   ]
  },
  {
   "cell_type": "code",
   "execution_count": 23,
   "metadata": {},
   "outputs": [
    {
     "name": "stdout",
     "output_type": "stream",
     "text": [
      "Enter a number: 3\n",
      "123"
     ]
    }
   ],
   "source": [
    "n=int(input(\"Enter a number: \"))\n",
    "\n",
    "for i in range((n)):\n",
    "    print(i+1, end=\"\")"
   ]
  },
  {
   "cell_type": "code",
   "execution_count": 25,
   "metadata": {},
   "outputs": [
    {
     "data": {
      "text/plain": [
       "builtin_function_or_method"
      ]
     },
     "execution_count": 25,
     "metadata": {},
     "output_type": "execute_result"
    }
   ],
   "source": [
    "type(eval)"
   ]
  },
  {
   "cell_type": "code",
   "execution_count": 29,
   "metadata": {},
   "outputs": [
    {
     "name": "stdout",
     "output_type": "stream",
     "text": [
      "3 + 9\n"
     ]
    },
    {
     "data": {
      "text/plain": [
       "12"
      ]
     },
     "execution_count": 29,
     "metadata": {},
     "output_type": "execute_result"
    }
   ],
   "source": [
    "# Task\n",
    "# You are given an expression in a line. Read that line as a string variable, such as var, and print\n",
    "# the result using eval(var).\n",
    "# sample Input\n",
    "# print(2 + 3)\n",
    "# sample Output\n",
    "# 5\n",
    "# Enter your code here. Read input from STDIN. Print output to STDOUT\n",
    "\n",
    "raw_input = input()\n",
    "\n",
    "eval(raw_input)"
   ]
  },
  {
   "cell_type": "code",
   "execution_count": 9,
   "metadata": {},
   "outputs": [
    {
     "name": "stdout",
     "output_type": "stream",
     "text": [
      "1\n",
      "1\n",
      "1\n",
      "2\n",
      "[[0, 0, 0], [0, 0, 1], [0, 1, 0], [1, 0, 0], [1, 1, 1]]\n"
     ]
    }
   ],
   "source": [
    "# Lexico-graphical-model\n",
    "\n",
    "from itertools import combinations\n",
    "lst = []\n",
    "\n",
    "if __name__ == '__main__':\n",
    "    x = int(input())\n",
    "    y = int(input())\n",
    "    z = int(input())\n",
    "    n = int(input())\n",
    "    lst=[[a,b,c] for a in range(x+1) for b in range(y+1)  for c in range(z+1) if(a+b+c)!=n]\n",
    "\n",
    "print(lst)\n"
   ]
  },
  {
   "cell_type": "code",
   "execution_count": 10,
   "metadata": {},
   "outputs": [
    {
     "name": "stdout",
     "output_type": "stream",
     "text": [
      "['[0, 0, 0]', '[0, 0, 1]', '[0, 1, 0]', '[1, 0, 0]', '[1, 1, 1]']\n"
     ]
    }
   ],
   "source": [
    "from itertools import combinations\n",
    "finallst = []\n",
    "for items in combinations(lst, 3):\n",
    "    for nums in items:\n",
    "        x = sum(nums)\n",
    "        if x !=n and nums not in finallst:\n",
    "            finallst.append(nums)\n",
    "\n",
    "f_finallst = (sorted(map(str, (finallst))))\n",
    "print(f_finallst)"
   ]
  },
  {
   "cell_type": "code",
   "execution_count": 9,
   "metadata": {},
   "outputs": [
    {
     "name": "stdout",
     "output_type": "stream",
     "text": [
      "Enter the number of participants : 6\n",
      "5 6 9 4 5 2\n",
      "6\n"
     ]
    }
   ],
   "source": [
    "# Given the participants' score sheet for your University Sports Day, you are required to find the \n",
    "# runner-up score. You are given n scores. Store them in a list and find the score of the runner-up.\n",
    "if __name__==\"__main__\":\n",
    "    n = int(input(\"Enter the number of participants : \"))\n",
    "    arr = map(int, input().split())\n",
    "    arr = list(set(list(arr)))\n",
    "    ar = len(arr)\n",
    "    arr = sorted(arr)\n",
    "    print(arr[ar-2])"
   ]
  },
  {
   "cell_type": "code",
   "execution_count": 11,
   "metadata": {},
   "outputs": [
    {
     "name": "stdout",
     "output_type": "stream",
     "text": [
      "5\n",
      "Harry\n",
      "37.21\n",
      "Berry\n",
      "37.21\n",
      "Tina\n",
      "37.2\n",
      "Akriti\n",
      "41\n",
      "Harsh\n",
      "39\n",
      "Berry\n",
      "Harry\n"
     ]
    }
   ],
   "source": [
    "# Given the names and grades for each student in a Physics class of  students, store them in a \n",
    "# nested list and print the name(s) of any student(s) having the second lowest grade.\n",
    "\n",
    "# Note: If there are multiple students with the same grade, order their names alphabetically and \n",
    "# print each name on a new line.\n",
    "\n",
    "n = int(input())\n",
    "arr = [[input(), float(input())] for _ in range(0,n)]\n",
    "arr.sort(key=lambda x: (x[1], x[0]))\n",
    "\n",
    "names = [i[0] for i in arr]\n",
    "marks = [i[1] for i in arr]\n",
    "\n",
    "min_val = min(marks)\n",
    "while marks[0]==min_val:\n",
    "    marks.remove(marks[0])\n",
    "    names.remove(names[0])\n",
    "for x in range(0, len(marks)):\n",
    "    if marks[x] == min(marks):\n",
    "        print(names[x])"
   ]
  },
  {
   "cell_type": "code",
   "execution_count": 20,
   "metadata": {},
   "outputs": [
    {
     "name": "stdout",
     "output_type": "stream",
     "text": [
      "3\n",
      "Krishna 67 68 69\n",
      "Arjun 70 98 63\n",
      "Malika 52 56 60\n",
      "Malika\n",
      "56.00\n"
     ]
    }
   ],
   "source": [
    "# Finding the percentage\n",
    "\n",
    "# You have a record of N students. Each record contains the student's name, and their percent marks in Maths, Physics and Chemistry. The\n",
    "# marks can be floating values. The user enters some integer N followed by the names and marks for N students. You are required to save\n",
    "# the record in a dictionary data type. The user then enters a student's name. Output the average percentage marks obtained by that\n",
    "# student, correct to two decimal places.\n",
    "\n",
    "# Input Format\n",
    "# The first line contains the integer N, the number of students. The next N lines contains the name and marks obtained by that student\n",
    "# separated by a space. The final line contains the name of a particular student previously listed.\n",
    "\n",
    "# Constraints\n",
    "# 2 <= N <= 10\n",
    "# 0 <= Marks <= 100\n",
    "\n",
    "# Output Format\n",
    "# Print one line: The average of the marks obtained by the particular student correct to 2 decimal places.\n",
    "\n",
    "\n",
    "# Enter your code here. Read input from STDIN. Print output to STDOUT\n",
    "\n",
    "n = int(input())\n",
    "results = {}\n",
    "\n",
    "for i in range(n):\n",
    "    a = input().split(' ')\n",
    "    results[a[0]] = [float(x) for x in a[1:]]\n",
    "student = input()\n",
    "print(\"%.2f\" %(sum(results[student])/len(results[student])))"
   ]
  },
  {
   "cell_type": "code",
   "execution_count": 22,
   "metadata": {},
   "outputs": [
    {
     "name": "stdout",
     "output_type": "stream",
     "text": [
      "1 4 9 16 25 36 49 64 81\n"
     ]
    }
   ],
   "source": [
    "import re\n",
    "\n",
    "#Squaring numbers\n",
    "def square(match):\n",
    "    number = int(match.group(0))\n",
    "    return str(number**2)\n",
    "\n",
    "print(re.sub(r\"\\d+\", square, \"1 2 3 4 5 6 7 8 9\"))"
   ]
  },
  {
   "cell_type": "code",
   "execution_count": 24,
   "metadata": {},
   "outputs": [
    {
     "name": "stdout",
     "output_type": "stream",
     "text": [
      "\n",
      "<head>\n",
      "<title>HTML</title>\n",
      "</head>\n",
      "<object type=\"application/x-flash\" \n",
      "  data=\"your-file.swf\" \n",
      "  width=\"0\" height=\"0\">\n",
      "  \n",
      "  <param name=\"quality\" value=\"high\"/>\n",
      "</object>\n",
      "\n"
     ]
    }
   ],
   "source": [
    "import re\n",
    "\n",
    "html = \"\"\"\n",
    "<head>\n",
    "<title>HTML</title>\n",
    "</head>\n",
    "<object type=\"application/x-flash\" \n",
    "  data=\"your-file.swf\" \n",
    "  width=\"0\" height=\"0\">\n",
    "  <!-- <param name=\"movie\"  value=\"your-file.swf\" /> -->\n",
    "  <param name=\"quality\" value=\"high\"/>\n",
    "</object>\n",
    "\"\"\"\n",
    "\n",
    "print(re.sub(\"(<!--.*?-->)\", \"\", html)) #remove comment"
   ]
  },
  {
   "cell_type": "code",
   "execution_count": 6,
   "metadata": {},
   "outputs": [
    {
     "name": "stdout",
     "output_type": "stream",
     "text": [
      "1\n",
      "||\n",
      "||\n"
     ]
    }
   ],
   "source": [
    "\"\"\"\n",
    "The re.sub() tool (sub stands for substitution) evaluates a pattern and, for each valid match, it calls a method (or lambda). \n",
    "The method is called for all matches and can be used to modify strings in different ways. \n",
    "The re.sub() method returns the modified string as an output.\n",
    "Learn more about .\n",
    "Transformation of Strings\n",
    "Code\n",
    "import re\n",
    "#Squaring numbers\n",
    "def square(match):\n",
    "    number = int(match.group(0))\n",
    "    return str(number**2)\n",
    "print re.sub(r\"\\d+\", square, \"1 2 3 4 5 6 7 8 9\")\n",
    "Output\n",
    "1 4 9 16 25 36 49 64 81\n",
    "Replacements in Strings\n",
    "Code\n",
    "import re\n",
    "html = \"\"\"\n",
    "# <head>\n",
    "# <title>HTML</title>\n",
    "# </head>\n",
    "# <object type=\"application/x-flash\" \n",
    "#   data=\"your-file.swf\" \n",
    "#   width=\"0\" height=\"0\">\n",
    "#   <!-- <param name=\"movie\"  value=\"your-file.swf\" /> -->\n",
    "#   <param name=\"quality\" value=\"high\"/>\n",
    "# </object>\n",
    "\"\"\"\n",
    "print re.sub(\"(<!--.*?-->)\", \"\", html) #remove comment\n",
    "Output\n",
    "<head>\n",
    "<title>HTML</title>\n",
    "</head>\n",
    "<object type=\"application/x-flash\" \n",
    "  data=\"your-file.swf\" \n",
    "  width=\"0\" height=\"0\">\n",
    "  <param name=\"quality\" value=\"high\"/>\n",
    "</object>\n",
    "Task\n",
    "You are given a text of  lines. The text contains && and || symbols. \n",
    "Your task is to modify those symbols to the following:\n",
    "&& → and\n",
    "|| → or\n",
    "Both && and || should have a space \" \" on both sides.\n",
    "Input Format\n",
    "The first line contains the integer, . \n",
    "The next  lines each contain a line of the text.\n",
    "Constraints\n",
    "Neither && nor || occur in the start or end of each line.\n",
    "Output Format\n",
    "Output the modified text.\n",
    "Sample Input\n",
    "11\n",
    "a = 1;\n",
    "b = input();\n",
    "if a + b > 0 && a - b < 0:\n",
    "    start()\n",
    "elif a*b > 10 || a/b < 1:\n",
    "    stop()\n",
    "print set(list(a)) | set(list(b)) \n",
    "#Note do not change &&& or ||| or & or |\n",
    "#Only change those '&&' which have space on both sides.\n",
    "#Only change those '|| which have space on both sides.\n",
    "Sample Output\n",
    "a = 1;\n",
    "b = input();\n",
    "if a + b > 0 and a - b < 0:\n",
    "    start()\n",
    "elif a*b > 10 or a/b < 1:\n",
    "    stop()\n",
    "print set(list(a)) | set(list(b)) \n",
    "#Note do not change &&& or ||| or & or |\n",
    "#Only change those '&&' which have space on both sides.\n",
    "#Only change those '|| which have space on both sides.    \n",
    "\"\"\"\n",
    "\n",
    "# Enter your code here. Read input from STDIN. Print output to STDOUT\n",
    "\n",
    "import re\n",
    "\n",
    "T = []\n",
    "def change(match):\n",
    "    if match.group(0) == '&&':\n",
    "        return 'and'\n",
    "    elif  match.group(0) == '||':\n",
    "        return 'or'\n",
    "    \n",
    "    \n",
    "N = int(input())\n",
    "for i in range(N):\n",
    "    T.append(input())\n",
    "    \n",
    "t = '\\n'.join(T)\n",
    "\n",
    "print(re.sub(r\"(?<= )(&&|\\|\\|)(?= )\", change, t))"
   ]
  },
  {
   "cell_type": "code",
   "execution_count": 22,
   "metadata": {},
   "outputs": [
    {
     "name": "stdout",
     "output_type": "stream",
     "text": [
      "CDVXXIIII\n",
      "True\n"
     ]
    }
   ],
   "source": [
    "import re\n",
    "\n",
    "thousand = 'M{0,3}'\n",
    "hundred = '(C[MD]|D?C{0,3})'\n",
    "ten = '(X[CL]|L?X{0,3})'\n",
    "digit = '(I[VX]|V?I{0,3})'\n",
    "print(bool(re.match(thousand + hundred+ten+digit, input())))\n",
    "\n",
    "regex_pattern = r\"\"    # Do not delete 'r'."
   ]
  },
  {
   "cell_type": "code",
   "execution_count": 23,
   "metadata": {},
   "outputs": [
    {
     "name": "stdout",
     "output_type": "stream",
     "text": [
      "CDXXI\n",
      "True\n"
     ]
    }
   ],
   "source": [
    "# This worked in the test.\n",
    "\n",
    "thousand = 'M{0,3}'\n",
    "hundred = '(C[MD]|D?C{0,3})'\n",
    "ten = '(X[CL]|L?X{0,3})'\n",
    "digit = '(I[VX]|V?I{0,3})'\n",
    "\n",
    "regex_pattern = r\"%s%s%s%s$\" % (thousand, hundred, ten, digit)   # Do not delete 'r'.\n",
    "\n",
    "import re\n",
    "print(str(bool(re.match(regex_pattern, input()))))"
   ]
  },
  {
   "cell_type": "code",
   "execution_count": 1,
   "metadata": {},
   "outputs": [],
   "source": [
    "from roman import fromRoman\n",
    "x=input()\n",
    "try:\n",
    "    if (roman.fromRoman(x)>0 and roman.fromRoman(x)<4000):\n",
    "        print(\"True\")\n",
    "    else:\n",
    "        print(\"False\")\n",
    "except:"
   ]
  },
  {
   "cell_type": "code",
   "execution_count": 3,
   "metadata": {},
   "outputs": [
    {
     "name": "stdout",
     "output_type": "stream",
     "text": [
      "2\n",
      "9874561230\n",
      "1234567890\n",
      "Yes\n",
      "NO\n"
     ]
    }
   ],
   "source": [
    "\"\"\"\n",
    "Let's dive into the interesting topic of regular expressions! You are given some input, and you are required to check whether they are valid mobile numbers.\n",
    "A valid mobile number is a ten digit number starting with a  or .\n",
    "Concept\n",
    "A valid mobile number is a ten digit number starting with a  or .\n",
    "Regular expressions are a key concept in any programming language. A quick explanation with Python examples is available here. You could also go through the link below to read more about regular expressions in Python.\n",
    "https://developers.google.com/edu/python/regular-expressions\n",
    "Input Format\n",
    "The first line contains an integer , the number of inputs.\n",
    " lines follow, each containing some string.\n",
    "Constraints\n",
    "Output Format\n",
    "For every string listed, print \"YES\" if it is a valid mobile number and \"NO\" if it is not on separate lines. Do not print the quotes.\n",
    "Sample Input\n",
    "2\n",
    "9587456281\n",
    "1252478965\n",
    "Sample Output\n",
    "YES\n",
    "NO\n",
    "\"\"\"\n",
    "\n",
    "\n",
    "# Enter your code here. Read input from STDIN. Print output to STDOUT    print(\"False\")\n",
    "\n",
    "import re\n",
    "\n",
    "k = int(input())\n",
    "p = [input() for _ in range(k)]\n",
    "\n",
    "for no in p:\n",
    "    if len(str(no)) == 10 and bool(re.match(r'[789][\\d]{9}',no)):\n",
    "        print(\"YES\")\n",
    "    else: \n",
    "        print(\"NO\")"
   ]
  },
  {
   "cell_type": "code",
   "execution_count": 7,
   "metadata": {},
   "outputs": [
    {
     "name": "stdout",
     "output_type": "stream",
     "text": [
      "('DOSHI', 'DOSHI@hackerrank.com')\n",
      "DOSHI <DOSHI@hackerrank.com>\n"
     ]
    }
   ],
   "source": [
    "import email.utils\n",
    "print(email.utils.parseaddr('DOSHI <DOSHI@hackerrank.com>'))\n",
    "print(email.utils.formataddr(('DOSHI', 'DOSHI@hackerrank.com')))"
   ]
  },
  {
   "cell_type": "code",
   "execution_count": 14,
   "metadata": {},
   "outputs": [
    {
     "name": "stdout",
     "output_type": "stream",
     "text": [
      "1\n",
      "shubh subhsbd.sdns:com\n"
     ]
    }
   ],
   "source": [
    "import re #Importing regular expression\n",
    "n = int(input())\n",
    "pattern = r\"^<[A-Za-z](\\w|-|\\.|_)+@[A-Za-z]+\\.[A-Za-z]{1,3}>$\"\n",
    "for i in range(n):\n",
    "    x,y = input().split(\" \")\n",
    "    if re.match(pattern,y):\n",
    "        print(x,y)"
   ]
  },
  {
   "cell_type": "markdown",
   "metadata": {},
   "source": [
    "Text Alignment."
   ]
  },
  {
   "cell_type": "code",
   "execution_count": 11,
   "metadata": {},
   "outputs": [
    {
     "output_type": "error",
     "ename": "ValueError",
     "evalue": "invalid literal for int() with base 10: ''",
     "traceback": [
      "\u001b[1;31m---------------------------------------------------------------------------\u001b[0m",
      "\u001b[1;31mValueError\u001b[0m                                Traceback (most recent call last)",
      "\u001b[1;32m<ipython-input-11-af3f0964aa96>\u001b[0m in \u001b[0;36m<module>\u001b[1;34m\u001b[0m\n\u001b[0;32m      3\u001b[0m \u001b[0mthickness\u001b[0m \u001b[1;33m=\u001b[0m \u001b[0minput\u001b[0m\u001b[1;33m(\u001b[0m\u001b[1;34m\"Enter a odd number\"\u001b[0m\u001b[1;33m)\u001b[0m \u001b[1;31m#This must be an odd number\u001b[0m\u001b[1;33m\u001b[0m\u001b[1;33m\u001b[0m\u001b[0m\n\u001b[0;32m      4\u001b[0m \u001b[0mc\u001b[0m \u001b[1;33m=\u001b[0m \u001b[1;34m'H'\u001b[0m\u001b[1;33m\u001b[0m\u001b[1;33m\u001b[0m\u001b[0m\n\u001b[1;32m----> 5\u001b[1;33m \u001b[0mt\u001b[0m \u001b[1;33m=\u001b[0m \u001b[0mint\u001b[0m\u001b[1;33m(\u001b[0m\u001b[0mthickness\u001b[0m\u001b[1;33m)\u001b[0m\u001b[1;33m\u001b[0m\u001b[1;33m\u001b[0m\u001b[0m\n\u001b[0m\u001b[0;32m      6\u001b[0m \u001b[1;31m#Top Cone\u001b[0m\u001b[1;33m\u001b[0m\u001b[1;33m\u001b[0m\u001b[1;33m\u001b[0m\u001b[0m\n\u001b[0;32m      7\u001b[0m \u001b[1;32mfor\u001b[0m \u001b[0mi\u001b[0m \u001b[1;32min\u001b[0m \u001b[0mrange\u001b[0m\u001b[1;33m(\u001b[0m\u001b[0mt\u001b[0m\u001b[1;33m)\u001b[0m\u001b[1;33m:\u001b[0m\u001b[1;33m\u001b[0m\u001b[1;33m\u001b[0m\u001b[0m\n",
      "\u001b[1;31mValueError\u001b[0m: invalid literal for int() with base 10: ''"
     ]
    }
   ],
   "source": [
    "#Replace all ______ with rjust, ljust or center. \n",
    "\n",
    "thickness = input(\"Enter a odd number\") #This must be an odd number\n",
    "c = 'H'\n",
    "t = int(thickness)\n",
    "#Top Cone\n",
    "for i in range(t):\n",
    "    print((c*i).rjust(t-1)+c+(c*i).ljust(t-1))\n",
    "\n",
    "#Top Pillars\n",
    "for i in range(t+1):\n",
    "    print((c*t).center(t*2)+(c*t).center(t*6))\n",
    "\n",
    "#Middle Belt\n",
    "for i in range((t+1)//2):\n",
    "    print((c*t*5).center(t*6))    \n",
    "\n",
    "#Bottom Pillars\n",
    "for i in range(t+1):\n",
    "    print((c*t).center(t*2)+(c*t).center(t*6))    \n",
    "\n",
    "#Bottom Cone\n",
    "for i in range(t):\n",
    "    print(((c*(t-i-1)).rjust(t)+c+(c*(t-i-1)).ljust(t)).rjust(t*6))\n"
   ]
  },
  {
   "cell_type": "code",
   "execution_count": null,
   "metadata": {},
   "outputs": [],
   "source": []
  }
 ],
 "metadata": {
  "kernelspec": {
   "display_name": "Python 3",
   "language": "python",
   "name": "python3"
  },
  "language_info": {
   "codemirror_mode": {
    "name": "ipython",
    "version": 3
   },
   "file_extension": ".py",
   "mimetype": "text/x-python",
   "name": "python",
   "nbconvert_exporter": "python",
   "pygments_lexer": "ipython3",
   "version": "3.8.2-final"
  }
 },
 "nbformat": 4,
 "nbformat_minor": 2
}